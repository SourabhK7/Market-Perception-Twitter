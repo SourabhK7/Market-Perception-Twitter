{
  "cells": [
    {
      "cell_type": "code",
      "execution_count": null,
      "metadata": {
        "application/vnd.databricks.v1+cell": {
          "inputWidgets": {},
          "nuid": "a9e33838-9e0f-417c-8ab7-81d86f8067c7",
          "showTitle": false,
          "title": ""
        },
        "id": "3Gs9h_QNJS1r"
      },
      "outputs": [],
      "source": [
        "import tweepy\n",
        "import pandas as pd\n",
        "client = tweepy.Client(bearer_token='********', \n",
        "                       consumer_key='********', \n",
        "                       consumer_secret='********', \n",
        "                       access_token='********', \n",
        "                       access_token_secret='********')"
      ]
    },
    {
      "cell_type": "code",
      "execution_count": null,
      "metadata": {
        "application/vnd.databricks.v1+cell": {
          "inputWidgets": {},
          "nuid": "a3cc38e2-93f1-4169-8c47-6c3414c2acd3",
          "showTitle": false,
          "title": ""
        },
        "id": "N1MFsH1oJS1u",
        "outputId": "de2b5098-5211-4087-950f-cf43ecc2e9d1"
      },
      "outputs": [
        {
          "data": {
            "text/plain": [
              "                 created_at                   id lang  \\\n",
              "0 2022-04-29 20:15:22+00:00  1520134668347129865   pt   \n",
              "1 2022-04-29 20:15:15+00:00  1520134639540711429   pt   \n",
              "2 2022-04-29 20:15:08+00:00  1520134608297160704   ja   \n",
              "3 2022-04-29 20:14:23+00:00  1520134419943936000   ja   \n",
              "4 2022-04-29 20:13:41+00:00  1520134243527106560   pt   \n",
              "5 2022-04-29 20:12:36+00:00  1520133974395396097   en   \n",
              "6 2022-04-29 20:12:17+00:00  1520133894959415298   en   \n",
              "7 2022-04-29 20:12:14+00:00  1520133879256207360   ja   \n",
              "8 2022-04-29 20:12:13+00:00  1520133874466144257   en   \n",
              "9 2022-04-29 20:11:21+00:00  1520133657926991872   ja   \n",
              "\n",
              "                                      public_metrics  \\\n",
              "0  {'retweet_count': 0, 'reply_count': 0, 'like_c...   \n",
              "1  {'retweet_count': 0, 'reply_count': 0, 'like_c...   \n",
              "2  {'retweet_count': 0, 'reply_count': 0, 'like_c...   \n",
              "3  {'retweet_count': 0, 'reply_count': 0, 'like_c...   \n",
              "4  {'retweet_count': 0, 'reply_count': 0, 'like_c...   \n",
              "5  {'retweet_count': 1, 'reply_count': 0, 'like_c...   \n",
              "6  {'retweet_count': 0, 'reply_count': 0, 'like_c...   \n",
              "7  {'retweet_count': 0, 'reply_count': 0, 'like_c...   \n",
              "8  {'retweet_count': 0, 'reply_count': 0, 'like_c...   \n",
              "9  {'retweet_count': 0, 'reply_count': 0, 'like_c...   \n",
              "\n",
              "                                                text  \n",
              "0  Echo Dot (3ª Geração): Smart Speaker com Alexa...  \n",
              "1  ⚡ Cupom de desconto Amazon 💃\\n\\n📚 Livros com a...  \n",
              "2  Amazonデバイス・アクセサリ から\\nセールス商品をご紹介!\\n\\n▼Echo Show...  \n",
              "3  Amazonデバイス・アクセサリ から\\n売れてる商品はこれ🉐\\n\\n👉Echo Dot (...  \n",
              "4  CUPOM DE DESCONTO AMAZON\\n\\nGanhe 28% off na c...  \n",
              "5  RT @AlexaSommers: #WritingCommunity #readingco...  \n",
              "6  Report shows that Amazon uses data from Alexa ...  \n",
              "7  2022-04-30 05:12:02 のおすすめのアイテムは↓ \\n結婚相手は本当に居るん...  \n",
              "8  Make your #radio station available to millions...  \n",
              "9  Amazonデバイス・アクセサリ から\\nベスト商品はこれ✨\\n\\n👉Echo Dot (エ...  \n"
            ]
          },
          "metadata": {
            "application/vnd.databricks.v1+output": {
              "addedWidgets": {},
              "arguments": {},
              "data": "                 created_at                   id lang  \\\n0 2022-04-29 20:15:22+00:00  1520134668347129865   pt   \n1 2022-04-29 20:15:15+00:00  1520134639540711429   pt   \n2 2022-04-29 20:15:08+00:00  1520134608297160704   ja   \n3 2022-04-29 20:14:23+00:00  1520134419943936000   ja   \n4 2022-04-29 20:13:41+00:00  1520134243527106560   pt   \n5 2022-04-29 20:12:36+00:00  1520133974395396097   en   \n6 2022-04-29 20:12:17+00:00  1520133894959415298   en   \n7 2022-04-29 20:12:14+00:00  1520133879256207360   ja   \n8 2022-04-29 20:12:13+00:00  1520133874466144257   en   \n9 2022-04-29 20:11:21+00:00  1520133657926991872   ja   \n\n                                      public_metrics  \\\n0  {'retweet_count': 0, 'reply_count': 0, 'like_c...   \n1  {'retweet_count': 0, 'reply_count': 0, 'like_c...   \n2  {'retweet_count': 0, 'reply_count': 0, 'like_c...   \n3  {'retweet_count': 0, 'reply_count': 0, 'like_c...   \n4  {'retweet_count': 0, 'reply_count': 0, 'like_c...   \n5  {'retweet_count': 1, 'reply_count': 0, 'like_c...   \n6  {'retweet_count': 0, 'reply_count': 0, 'like_c...   \n7  {'retweet_count': 0, 'reply_count': 0, 'like_c...   \n8  {'retweet_count': 0, 'reply_count': 0, 'like_c...   \n9  {'retweet_count': 0, 'reply_count': 0, 'like_c...   \n\n                                                text  \n0  Echo Dot (3ª Geração): Smart Speaker com Alexa...  \n1  ⚡ Cupom de desconto Amazon 💃\\n\\n📚 Livros com a...  \n2  Amazonデバイス・アクセサリ から\\nセールス商品をご紹介!\\n\\n▼Echo Show...  \n3  Amazonデバイス・アクセサリ から\\n売れてる商品はこれ🉐\\n\\n👉Echo Dot (...  \n4  CUPOM DE DESCONTO AMAZON\\n\\nGanhe 28% off na c...  \n5  RT @AlexaSommers: #WritingCommunity #readingco...  \n6  Report shows that Amazon uses data from Alexa ...  \n7  2022-04-30 05:12:02 のおすすめのアイテムは↓ \\n結婚相手は本当に居るん...  \n8  Make your #radio station available to millions...  \n9  Amazonデバイス・アクセサリ から\\nベスト商品はこれ✨\\n\\n👉Echo Dot (エ...  \n",
              "datasetInfos": [],
              "metadata": {},
              "removedWidgets": [],
              "type": "ansi"
            }
          },
          "output_type": "display_data"
        }
      ],
      "source": [
        "query = '(Amazon Alexa OR @alexa99)' \n",
        "\n",
        "response = client.search_recent_tweets(query=query,max_results = 10, tweet_fields = ['created_at', 'lang','text','public_metrics','geo'])\n",
        "full = pd.DataFrame(response.data)\n",
        "print(full)"
      ]
    },
    {
      "cell_type": "code",
      "execution_count": null,
      "metadata": {
        "application/vnd.databricks.v1+cell": {
          "inputWidgets": {},
          "nuid": "99f38310-d365-4592-b8d1-7688859afc0f",
          "showTitle": false,
          "title": ""
        },
        "id": "sjt-78dpJS1v",
        "outputId": "2b7bbdaf-925e-4ebd-b2b9-198d085b4840"
      },
      "outputs": [
        {
          "data": {
            "text/plain": [
              "                 created_at                   id lang  \\\n",
              "0 2022-04-29 20:15:22+00:00  1520134668347129865   pt   \n",
              "1 2022-04-29 20:15:15+00:00  1520134639540711429   pt   \n",
              "2 2022-04-29 20:15:08+00:00  1520134608297160704   ja   \n",
              "3 2022-04-29 20:14:23+00:00  1520134419943936000   ja   \n",
              "4 2022-04-29 20:13:41+00:00  1520134243527106560   pt   \n",
              "5 2022-04-29 20:12:36+00:00  1520133974395396097   en   \n",
              "6 2022-04-29 20:12:17+00:00  1520133894959415298   en   \n",
              "7 2022-04-29 20:12:14+00:00  1520133879256207360   ja   \n",
              "8 2022-04-29 20:12:13+00:00  1520133874466144257   en   \n",
              "9 2022-04-29 20:11:21+00:00  1520133657926991872   ja   \n",
              "\n",
              "                                      public_metrics  \\\n",
              "0  {'retweet_count': 0, 'reply_count': 0, 'like_c...   \n",
              "1  {'retweet_count': 0, 'reply_count': 0, 'like_c...   \n",
              "2  {'retweet_count': 0, 'reply_count': 0, 'like_c...   \n",
              "3  {'retweet_count': 0, 'reply_count': 0, 'like_c...   \n",
              "4  {'retweet_count': 0, 'reply_count': 0, 'like_c...   \n",
              "5  {'retweet_count': 1, 'reply_count': 0, 'like_c...   \n",
              "6  {'retweet_count': 0, 'reply_count': 0, 'like_c...   \n",
              "7  {'retweet_count': 0, 'reply_count': 0, 'like_c...   \n",
              "8  {'retweet_count': 0, 'reply_count': 0, 'like_c...   \n",
              "9  {'retweet_count': 0, 'reply_count': 0, 'like_c...   \n",
              "\n",
              "                                                text  \n",
              "0  Echo Dot (3ª Geração): Smart Speaker com Alexa...  \n",
              "1  ⚡ Cupom de desconto Amazon 💃\\n\\n📚 Livros com a...  \n",
              "2  Amazonデバイス・アクセサリ から\\nセールス商品をご紹介!\\n\\n▼Echo Show...  \n",
              "3  Amazonデバイス・アクセサリ から\\n売れてる商品はこれ🉐\\n\\n👉Echo Dot (...  \n",
              "4  CUPOM DE DESCONTO AMAZON\\n\\nGanhe 28% off na c...  \n",
              "5  RT @AlexaSommers: #WritingCommunity #readingco...  \n",
              "6  Report shows that Amazon uses data from Alexa ...  \n",
              "7  2022-04-30 05:12:02 のおすすめのアイテムは↓ \\n結婚相手は本当に居るん...  \n",
              "8  Make your #radio station available to millions...  \n",
              "9  Amazonデバイス・アクセサリ から\\nベスト商品はこれ✨\\n\\n👉Echo Dot (エ...  \n"
            ]
          },
          "metadata": {
            "application/vnd.databricks.v1+output": {
              "addedWidgets": {},
              "arguments": {},
              "data": "                 created_at                   id lang  \\\n0 2022-04-29 20:15:22+00:00  1520134668347129865   pt   \n1 2022-04-29 20:15:15+00:00  1520134639540711429   pt   \n2 2022-04-29 20:15:08+00:00  1520134608297160704   ja   \n3 2022-04-29 20:14:23+00:00  1520134419943936000   ja   \n4 2022-04-29 20:13:41+00:00  1520134243527106560   pt   \n5 2022-04-29 20:12:36+00:00  1520133974395396097   en   \n6 2022-04-29 20:12:17+00:00  1520133894959415298   en   \n7 2022-04-29 20:12:14+00:00  1520133879256207360   ja   \n8 2022-04-29 20:12:13+00:00  1520133874466144257   en   \n9 2022-04-29 20:11:21+00:00  1520133657926991872   ja   \n\n                                      public_metrics  \\\n0  {'retweet_count': 0, 'reply_count': 0, 'like_c...   \n1  {'retweet_count': 0, 'reply_count': 0, 'like_c...   \n2  {'retweet_count': 0, 'reply_count': 0, 'like_c...   \n3  {'retweet_count': 0, 'reply_count': 0, 'like_c...   \n4  {'retweet_count': 0, 'reply_count': 0, 'like_c...   \n5  {'retweet_count': 1, 'reply_count': 0, 'like_c...   \n6  {'retweet_count': 0, 'reply_count': 0, 'like_c...   \n7  {'retweet_count': 0, 'reply_count': 0, 'like_c...   \n8  {'retweet_count': 0, 'reply_count': 0, 'like_c...   \n9  {'retweet_count': 0, 'reply_count': 0, 'like_c...   \n\n                                                text  \n0  Echo Dot (3ª Geração): Smart Speaker com Alexa...  \n1  ⚡ Cupom de desconto Amazon 💃\\n\\n📚 Livros com a...  \n2  Amazonデバイス・アクセサリ から\\nセールス商品をご紹介!\\n\\n▼Echo Show...  \n3  Amazonデバイス・アクセサリ から\\n売れてる商品はこれ🉐\\n\\n👉Echo Dot (...  \n4  CUPOM DE DESCONTO AMAZON\\n\\nGanhe 28% off na c...  \n5  RT @AlexaSommers: #WritingCommunity #readingco...  \n6  Report shows that Amazon uses data from Alexa ...  \n7  2022-04-30 05:12:02 のおすすめのアイテムは↓ \\n結婚相手は本当に居るん...  \n8  Make your #radio station available to millions...  \n9  Amazonデバイス・アクセサリ から\\nベスト商品はこれ✨\\n\\n👉Echo Dot (エ...  \n",
              "datasetInfos": [],
              "metadata": {},
              "removedWidgets": [],
              "type": "ansi"
            }
          },
          "output_type": "display_data"
        }
      ],
      "source": [
        "query = '(Amazon Alexa OR @alexa99)' \n",
        "\n",
        "response = client.search_recent_tweets(query=query,max_results = 10, tweet_fields = ['created_at', 'lang','text','public_metrics','geo'])\n",
        "full = pd.DataFrame(response.data)\n",
        "print(full)"
      ]
    },
    {
      "cell_type": "code",
      "execution_count": null,
      "metadata": {
        "application/vnd.databricks.v1+cell": {
          "inputWidgets": {},
          "nuid": "1e0c0592-5534-46f4-9a20-f7507b114ec3",
          "showTitle": false,
          "title": ""
        },
        "id": "1filR7PTJS1y",
        "outputId": "61418a2b-8867-42a6-f636-71da75f3888a"
      },
      "outputs": [
        {
          "data": {
            "text/plain": [
              "                     id                                               text\n",
              "0   1517289605745283072  #NowPlaying on #personalfavorites at https://t...\n",
              "1   1517288323844165632  31% Off!\\n\\nSAMSUNG 85-Inch Class Neo QLED QN9...\n",
              "2   1517287102894981125  #PlayingNow on #personalfavorites 120 Second A...\n",
              "3   1517287078362587141                   @alexa99 https://t.co/pR9qt4yQjB\n",
              "4   1517286329318584320  Attention Radio Stations! Access millions of n...\n",
              "..                  ...                                                ...\n",
              "95  1517206548220686336  📍 meross Lampadine LED Alexa Intelligente WiFi...\n",
              "96  1517205874653212672  🔥Explore deals on Alexa Built-in devices for M...\n",
              "97  1517204692501159941  RT @heather_gilll: How to make voice and video...\n",
              "98  1517204691092148224  Amazon　Fire TV Stick 4K Max [Alexa対応音声認識リモコン(第...\n",
              "99  1517204588260114433  Make your #radio station available to millions...\n",
              "\n",
              "[100 rows x 2 columns]\n"
            ]
          },
          "metadata": {
            "application/vnd.databricks.v1+output": {
              "addedWidgets": {},
              "arguments": {},
              "data": "                     id                                               text\n0   1517289605745283072  #NowPlaying on #personalfavorites at https://t...\n1   1517288323844165632  31% Off!\\n\\nSAMSUNG 85-Inch Class Neo QLED QN9...\n2   1517287102894981125  #PlayingNow on #personalfavorites 120 Second A...\n3   1517287078362587141                   @alexa99 https://t.co/pR9qt4yQjB\n4   1517286329318584320  Attention Radio Stations! Access millions of n...\n..                  ...                                                ...\n95  1517206548220686336  📍 meross Lampadine LED Alexa Intelligente WiFi...\n96  1517205874653212672  🔥Explore deals on Alexa Built-in devices for M...\n97  1517204692501159941  RT @heather_gilll: How to make voice and video...\n98  1517204691092148224  Amazon　Fire TV Stick 4K Max [Alexa対応音声認識リモコン(第...\n99  1517204588260114433  Make your #radio station available to millions...\n\n[100 rows x 2 columns]\n",
              "datasetInfos": [],
              "metadata": {},
              "removedWidgets": [],
              "type": "ansi"
            }
          },
          "output_type": "display_data"
        }
      ],
      "source": [
        "query = '(Amazon Alexa OR @alexa99) has:images '\n",
        "\n",
        "response = client.search_recent_tweets(query=query, max_results = 100)\n",
        "image = pd.DataFrame(response.data)\n",
        "print(image)"
      ]
    },
    {
      "cell_type": "code",
      "execution_count": null,
      "metadata": {
        "application/vnd.databricks.v1+cell": {
          "inputWidgets": {},
          "nuid": "838eec64-dce8-49b8-a49a-c4f6257f6cac",
          "showTitle": false,
          "title": ""
        },
        "id": "Ib50aWIoJS10",
        "outputId": "7ef95ad1-46cc-4c34-a5cd-62d9944f8afa"
      },
      "outputs": [
        {
          "data": {
            "text/plain": [
              "                     id                                               text\n",
              "0   1517289832736858115  RT @alexafiles: alexa demie and sydney sweeney...\n",
              "1   1517289828571877381  @AleXa_ZB somehow u turned ur own notification...\n",
              "2   1517289818610405377  @AleXa_ZB can  u  name  my  plushie? https://t...\n",
              "3   1517289810687401984  RT @alexafiles: alexa demie and sydney sweeney...\n",
              "4   1517289787878776833  RT @ArsenalN7: Alexa, define love https://t.co...\n",
              "..                  ...                                                ...\n",
              "95  1517288874246037504  Alexa play FREAK x Kelly Rowland 🤤🔥❤️ https://...\n",
              "96  1517288843514318848  RT @schaferfiles: hunter schafer, alexa demie ...\n",
              "97  1517288841635254272  RT @alexafiles: alexa demie for rodarte ss20 h...\n",
              "98  1517288838934237184  Alexa Demie's favorite Madonna song being I Wa...\n",
              "99  1517288823935279104  RT @The_Blue_Brand: Daily Alexa Bliss pic! #WW...\n",
              "\n",
              "[100 rows x 2 columns]\n"
            ]
          },
          "metadata": {
            "application/vnd.databricks.v1+output": {
              "addedWidgets": {},
              "arguments": {},
              "data": "                     id                                               text\n0   1517289832736858115  RT @alexafiles: alexa demie and sydney sweeney...\n1   1517289828571877381  @AleXa_ZB somehow u turned ur own notification...\n2   1517289818610405377  @AleXa_ZB can  u  name  my  plushie? https://t...\n3   1517289810687401984  RT @alexafiles: alexa demie and sydney sweeney...\n4   1517289787878776833  RT @ArsenalN7: Alexa, define love https://t.co...\n..                  ...                                                ...\n95  1517288874246037504  Alexa play FREAK x Kelly Rowland 🤤🔥❤️ https://...\n96  1517288843514318848  RT @schaferfiles: hunter schafer, alexa demie ...\n97  1517288841635254272  RT @alexafiles: alexa demie for rodarte ss20 h...\n98  1517288838934237184  Alexa Demie's favorite Madonna song being I Wa...\n99  1517288823935279104  RT @The_Blue_Brand: Daily Alexa Bliss pic! #WW...\n\n[100 rows x 2 columns]\n",
              "datasetInfos": [],
              "metadata": {},
              "removedWidgets": [],
              "type": "ansi"
            }
          },
          "output_type": "display_data"
        }
      ],
      "source": [
        "query = '(Amazon Alexa OR @alexa99) has:links '\n",
        "\n",
        "response = client.search_recent_tweets(query=query, max_results = 100)\n",
        "link = pd.DataFrame(response.data)\n",
        "print(link)"
      ]
    },
    {
      "cell_type": "code",
      "execution_count": null,
      "metadata": {
        "application/vnd.databricks.v1+cell": {
          "inputWidgets": {},
          "nuid": "8074e46a-9b31-4ca4-8b22-2be948527e3c",
          "showTitle": false,
          "title": ""
        },
        "id": "T-ZzwfAPJS12",
        "outputId": "823a2f9b-9020-4398-d9e9-2004519fc8e2"
      },
      "outputs": [
        {
          "data": {
            "text/plain": [
              "                     id                                               text\n",
              "0   1517289771311284227  RT @alexafiles: alexa demie talks about maddy ...\n",
              "1   1517289638079074304  RT @kdlexed: kd niyo binilhan si alexa ng leat...\n",
              "2   1517289632391581696  RT @TatiannaJune: Alexa “Play Shake That from ...\n",
              "3   1517289472785850372  @AleXa_ZB hello queen glad you're back how do ...\n",
              "4   1517289445594001408  RT @cinemabravoph: Alexa: “Dumating siya sa ho...\n",
              "..                  ...                                                ...\n",
              "95  1517281229011365894  RT @Variety: Alexa Demie addresses rumors that...\n",
              "96  1517281155828969472  RT @usualllyme: Alexa play,\\nThat’s should be ...\n",
              "97  1517281150485643265  RT @CSMcDonald7: Alexa Owl is a reluctant time...\n",
              "98  1517281138695446528  RT @Variety: Alexa Demie addresses rumors that...\n",
              "99  1517281128352141312  RT @kumuPH: Imagine Alexa saying “I love you” ...\n",
              "\n",
              "[100 rows x 2 columns]\n"
            ]
          },
          "metadata": {
            "application/vnd.databricks.v1+output": {
              "addedWidgets": {},
              "arguments": {},
              "data": "                     id                                               text\n0   1517289771311284227  RT @alexafiles: alexa demie talks about maddy ...\n1   1517289638079074304  RT @kdlexed: kd niyo binilhan si alexa ng leat...\n2   1517289632391581696  RT @TatiannaJune: Alexa “Play Shake That from ...\n3   1517289472785850372  @AleXa_ZB hello queen glad you're back how do ...\n4   1517289445594001408  RT @cinemabravoph: Alexa: “Dumating siya sa ho...\n..                  ...                                                ...\n95  1517281229011365894  RT @Variety: Alexa Demie addresses rumors that...\n96  1517281155828969472  RT @usualllyme: Alexa play,\\nThat’s should be ...\n97  1517281150485643265  RT @CSMcDonald7: Alexa Owl is a reluctant time...\n98  1517281138695446528  RT @Variety: Alexa Demie addresses rumors that...\n99  1517281128352141312  RT @kumuPH: Imagine Alexa saying “I love you” ...\n\n[100 rows x 2 columns]\n",
              "datasetInfos": [],
              "metadata": {},
              "removedWidgets": [],
              "type": "ansi"
            }
          },
          "output_type": "display_data"
        }
      ],
      "source": [
        "query = '(Amazon Alexa OR @alexa99) has:videos'\n",
        "\n",
        "response = client.search_recent_tweets(query=query, max_results = 100)\n",
        "video = pd.DataFrame(response.data)\n",
        "print(video)"
      ]
    },
    {
      "cell_type": "code",
      "execution_count": null,
      "metadata": {
        "application/vnd.databricks.v1+cell": {
          "inputWidgets": {},
          "nuid": "147bc2b5-11cb-4c91-8595-fe29b90fdc33",
          "showTitle": false,
          "title": ""
        },
        "id": "Cjq82PSWJS14",
        "outputId": "23a449c4-0299-49df-a6c2-61424ff5ed4c"
      },
      "outputs": [
        {
          "data": {
            "text/plain": [
              "                     id                                               text\n",
              "0   1517289904262336512  RT @EuphoriaHBONews: 📸| Sydney and Alexa atten...\n",
              "1   1517289901641068544  RT @kdlexed: kd niyo binilhan si alexa ng leat...\n",
              "2   1517289892157534213  RT @FiscaliaCDMX: Ha sido localizada la menor ...\n",
              "3   1517289788923322369  RT @kaydsIex: alexa: magrerecording kami bukas...\n",
              "4   1517289786154831872  #nowplaying Slim Man - There For You (Live) fr...\n",
              "..                  ...                                                ...\n",
              "95  1517285945938427904  RT @aaayehey: KD, you deserve someone like ale...\n",
              "96  1517285929240887296  RT @talachen: Alexa's ganaps tomorrow accordin...\n",
              "97  1517285908109660161  RT @willdoit23: Cute alexa...\\n\\nhttps://t.co/...\n",
              "98  1517285838102618113  RT @BwcDeals: 18% Off!\\n\\nSony A80J 65 Inch TV...\n",
              "99  1517285824546582528  RT @shannonlada: Alexa Demie, Hunter Schafer, ...\n",
              "\n",
              "[100 rows x 2 columns]\n"
            ]
          },
          "metadata": {
            "application/vnd.databricks.v1+output": {
              "addedWidgets": {},
              "arguments": {},
              "data": "                     id                                               text\n0   1517289904262336512  RT @EuphoriaHBONews: 📸| Sydney and Alexa atten...\n1   1517289901641068544  RT @kdlexed: kd niyo binilhan si alexa ng leat...\n2   1517289892157534213  RT @FiscaliaCDMX: Ha sido localizada la menor ...\n3   1517289788923322369  RT @kaydsIex: alexa: magrerecording kami bukas...\n4   1517289786154831872  #nowplaying Slim Man - There For You (Live) fr...\n..                  ...                                                ...\n95  1517285945938427904  RT @aaayehey: KD, you deserve someone like ale...\n96  1517285929240887296  RT @talachen: Alexa's ganaps tomorrow accordin...\n97  1517285908109660161  RT @willdoit23: Cute alexa...\\n\\nhttps://t.co/...\n98  1517285838102618113  RT @BwcDeals: 18% Off!\\n\\nSony A80J 65 Inch TV...\n99  1517285824546582528  RT @shannonlada: Alexa Demie, Hunter Schafer, ...\n\n[100 rows x 2 columns]\n",
              "datasetInfos": [],
              "metadata": {},
              "removedWidgets": [],
              "type": "ansi"
            }
          },
          "output_type": "display_data"
        }
      ],
      "source": [
        "query = '(Amazon Alexa OR @alexa99) has:hashtags'\n",
        "\n",
        "response = client.search_recent_tweets(query=query, max_results = 100)\n",
        "ht = pd.DataFrame(response.data)\n",
        "print(ht)"
      ]
    },
    {
      "cell_type": "code",
      "execution_count": null,
      "metadata": {
        "application/vnd.databricks.v1+cell": {
          "inputWidgets": {},
          "nuid": "1e34b0c6-c89a-4c31-a53c-5d0e8a852e5c",
          "showTitle": false,
          "title": ""
        },
        "id": "dFXPuszkJS17"
      },
      "outputs": [],
      "source": [
        "query = '(Amazon Alexa OR @alexa99) has:videos'\n",
        "\n",
        "response = client.search_recent_tweets(query=query, max_results = 100)\n",
        "video = pd.DataFrame(response.data)\n",
        "print(video)"
      ]
    },
    {
      "cell_type": "code",
      "execution_count": null,
      "metadata": {
        "application/vnd.databricks.v1+cell": {
          "inputWidgets": {},
          "nuid": "11e0ef17-c72e-4ae3-be9f-87b7b9360d09",
          "showTitle": false,
          "title": ""
        },
        "id": "N4N8RJ9-JS2A",
        "outputId": "2047490c-a4ca-4f2d-f4bd-360bfaf96bc3"
      },
      "outputs": [
        {
          "data": {
            "text/plain": [
              "                     id                                               text\n",
              "0   1517288595979403264  @hiro21love ABEMAボタン付きFire TVリモコン\\n　　販売開始キャンペー...\n",
              "1   1517288444502114305  @KazuhiroDayon 対人関係で頑張っているあなたに、上坂すみれさんから甘口エール📣...\n",
              "2   1517288440949362690  🌟👉Now available! \\n🚀👉New Book by @billfranksga...\n",
              "3   1517288411295592456  RT @bcuban: Just 20 reviews from the magic 300...\n",
              "4   1517288377309339648  @KazuhiroDayon 誘惑に負けずに頑張っているあなたに、華丸さんからの熱血エール📣...\n",
              "..                  ...                                                ...\n",
              "95  1517283334074040320  @oui09655128 仕事が山積みでも頑張っているあなたに\\n上坂すみれさんから甘口エー...\n",
              "96  1517283226556850176  @fer_arnaiz ¿Qué tal una playlist con el pop q...\n",
              "97  1517283164045344768  @oui09655128 残業を頑張っているあなたに、木村昴さんからの甘口エール📣\\n息スッ...\n",
              "98  1517283164032729088  @ZeFcNREYJHxX5kh 誘惑に負けずに頑張っているあなたに、華丸さんからの熱血エー...\n",
              "99  1517283149314772992  @GlennSc54285755 @davidthejong @spectator This...\n",
              "\n",
              "[100 rows x 2 columns]\n"
            ]
          },
          "metadata": {
            "application/vnd.databricks.v1+output": {
              "addedWidgets": {},
              "arguments": {},
              "data": "                     id                                               text\n0   1517288595979403264  @hiro21love ABEMAボタン付きFire TVリモコン\\n　　販売開始キャンペー...\n1   1517288444502114305  @KazuhiroDayon 対人関係で頑張っているあなたに、上坂すみれさんから甘口エール📣...\n2   1517288440949362690  🌟👉Now available! \\n🚀👉New Book by @billfranksga...\n3   1517288411295592456  RT @bcuban: Just 20 reviews from the magic 300...\n4   1517288377309339648  @KazuhiroDayon 誘惑に負けずに頑張っているあなたに、華丸さんからの熱血エール📣...\n..                  ...                                                ...\n95  1517283334074040320  @oui09655128 仕事が山積みでも頑張っているあなたに\\n上坂すみれさんから甘口エー...\n96  1517283226556850176  @fer_arnaiz ¿Qué tal una playlist con el pop q...\n97  1517283164045344768  @oui09655128 残業を頑張っているあなたに、木村昴さんからの甘口エール📣\\n息スッ...\n98  1517283164032729088  @ZeFcNREYJHxX5kh 誘惑に負けずに頑張っているあなたに、華丸さんからの熱血エー...\n99  1517283149314772992  @GlennSc54285755 @davidthejong @spectator This...\n\n[100 rows x 2 columns]\n",
              "datasetInfos": [],
              "metadata": {},
              "removedWidgets": [],
              "type": "ansi"
            }
          },
          "output_type": "display_data"
        }
      ],
      "source": [
        "query = '(Amazon Alexa OR @alexa99) is:verified'\n",
        "\n",
        "response = client.search_recent_tweets(query=query, max_results = 100)\n",
        "verified = pd.DataFrame(response.data)\n",
        "print(verified)"
      ]
    },
    {
      "cell_type": "code",
      "execution_count": null,
      "metadata": {
        "application/vnd.databricks.v1+cell": {
          "inputWidgets": {},
          "nuid": "ec4efea2-0d81-45dc-b437-c71ba0791fee",
          "showTitle": false,
          "title": ""
        },
        "id": "NQbz5uWDJS2C",
        "outputId": "4bffec92-29b9-4449-9a3d-4fb6d6dbe679"
      },
      "outputs": [
        {
          "data": {
            "text/plain": [
              "                     id                                               text\n",
              "0   1517287078362587141                   @alexa99 https://t.co/pR9qt4yQjB\n",
              "1   1517286349589598210                            @alexa99 Fishing I mean\n",
              "2   1517285545809960961  RT @alexa99: #TBT: This handheld device, popul...\n",
              "3   1517284833935998976  @StronzoPUCCi @Don46468984 @alexa99 I thought ...\n",
              "4   1517284688011874304  RT @amazon: Wouldn't it be great if Alexa coul...\n",
              "..                  ...                                                ...\n",
              "95  1517207024723021826                        @alexa99 It’s a calculator!\n",
              "96  1517206122444341248                                @alexa99 Calculator\n",
              "97  1517205913160933376           @amazon @alexa99 https://t.co/BjGqEoX2m3\n",
              "98  1517204612905943040           @amazon @alexa99 https://t.co/emCMg5nVru\n",
              "99  1517204102454857728  @alexa99 @AmazonHelp eu consigo mudar o nome d...\n",
              "\n",
              "[100 rows x 2 columns]\n"
            ]
          },
          "metadata": {
            "application/vnd.databricks.v1+output": {
              "addedWidgets": {},
              "arguments": {},
              "data": "                     id                                               text\n0   1517287078362587141                   @alexa99 https://t.co/pR9qt4yQjB\n1   1517286349589598210                            @alexa99 Fishing I mean\n2   1517285545809960961  RT @alexa99: #TBT: This handheld device, popul...\n3   1517284833935998976  @StronzoPUCCi @Don46468984 @alexa99 I thought ...\n4   1517284688011874304  RT @amazon: Wouldn't it be great if Alexa coul...\n..                  ...                                                ...\n95  1517207024723021826                        @alexa99 It’s a calculator!\n96  1517206122444341248                                @alexa99 Calculator\n97  1517205913160933376           @amazon @alexa99 https://t.co/BjGqEoX2m3\n98  1517204612905943040           @amazon @alexa99 https://t.co/emCMg5nVru\n99  1517204102454857728  @alexa99 @AmazonHelp eu consigo mudar o nome d...\n\n[100 rows x 2 columns]\n",
              "datasetInfos": [],
              "metadata": {},
              "removedWidgets": [],
              "type": "ansi"
            }
          },
          "output_type": "display_data"
        }
      ],
      "source": [
        "query = '@alexa99'\n",
        "\n",
        "response = client.search_recent_tweets(query=query, max_results = 100)\n",
        "alexa = pd.DataFrame(response.data)\n",
        "print(alexa)"
      ]
    },
    {
      "cell_type": "code",
      "execution_count": null,
      "metadata": {
        "application/vnd.databricks.v1+cell": {
          "inputWidgets": {},
          "nuid": "97bc2433-a28a-4fae-ba47-d67afff1985b",
          "showTitle": false,
          "title": ""
        },
        "id": "dJbhATjnJS2F"
      },
      "outputs": [],
      "source": [
        "import pandas as pd\n",
        "import numpy as np\n",
        "\n",
        "#df1 = spark.read.format(\"csv\").option(\"header\", \"false\").load(\"dbfs:/FileStore/shared_uploads/kumar669@umn.edu/testdata_manual_2009_06_14-1.csv\")\n",
        "df = spark.read.format(\"csv\").option(\"header\", \"false\").load(\"dbfs:/FileStore/shared_uploads/kumar669@umn.edu/training_1600000_processed_noemoticon-1.csv\")\n",
        "\n",
        "#data = pd.read_csv('twitter_review.csv', error_bad_lines=False)"
      ]
    },
    {
      "cell_type": "code",
      "execution_count": null,
      "metadata": {
        "application/vnd.databricks.v1+cell": {
          "inputWidgets": {},
          "nuid": "a139d84d-5c29-4248-b965-12a957b19986",
          "showTitle": false,
          "title": ""
        },
        "id": "9yCjpStvJS2H",
        "outputId": "35df44e1-54db-478e-c988-b880c88c4d07"
      },
      "outputs": [
        {
          "data": {
            "text/plain": [
              "+---+----------+--------------------+--------+---------------+--------------------+\n",
              "|_c0|       _c1|                 _c2|     _c3|            _c4|                 _c5|\n",
              "+---+----------+--------------------+--------+---------------+--------------------+\n",
              "|  0|1467810369|Mon Apr 06 22:19:...|NO_QUERY|_TheSpecialOne_|@switchfoot http:...|\n",
              "|  0|1467810672|Mon Apr 06 22:19:...|NO_QUERY|  scotthamilton|is upset that he ...|\n",
              "|  0|1467810917|Mon Apr 06 22:19:...|NO_QUERY|       mattycus|@Kenichan I dived...|\n",
              "|  0|1467811184|Mon Apr 06 22:19:...|NO_QUERY|        ElleCTF|my whole body fee...|\n",
              "|  0|1467811193|Mon Apr 06 22:19:...|NO_QUERY|         Karoli|@nationwideclass ...|\n",
              "|  0|1467811372|Mon Apr 06 22:20:...|NO_QUERY|       joy_wolf|@Kwesidei not the...|\n",
              "|  0|1467811592|Mon Apr 06 22:20:...|NO_QUERY|        mybirch|         Need a hug |\n",
              "|  0|1467811594|Mon Apr 06 22:20:...|NO_QUERY|           coZZ|@LOLTrish hey  lo...|\n",
              "|  0|1467811795|Mon Apr 06 22:20:...|NO_QUERY|2Hood4Hollywood|@Tatiana_K nope t...|\n",
              "|  0|1467812025|Mon Apr 06 22:20:...|NO_QUERY|        mimismo|@twittera que me ...|\n",
              "|  0|1467812416|Mon Apr 06 22:20:...|NO_QUERY| erinx3leannexo|spring break in p...|\n",
              "|  0|1467812579|Mon Apr 06 22:20:...|NO_QUERY|   pardonlauren|I just re-pierced...|\n",
              "|  0|1467812723|Mon Apr 06 22:20:...|NO_QUERY|           TLeC|@caregiving I cou...|\n",
              "|  0|1467812771|Mon Apr 06 22:20:...|NO_QUERY|robrobbierobert|@octolinz16 It it...|\n",
              "|  0|1467812784|Mon Apr 06 22:20:...|NO_QUERY|    bayofwolves|@smarrison i woul...|\n",
              "|  0|1467812799|Mon Apr 06 22:20:...|NO_QUERY|     HairByJess|@iamjazzyfizzle I...|\n",
              "|  0|1467812964|Mon Apr 06 22:20:...|NO_QUERY| lovesongwriter|Hollis' death sce...|\n",
              "|  0|1467813137|Mon Apr 06 22:20:...|NO_QUERY|       armotley|about to file taxes |\n",
              "|  0|1467813579|Mon Apr 06 22:20:...|NO_QUERY|     starkissed|@LettyA ahh ive a...|\n",
              "|  0|1467813782|Mon Apr 06 22:20:...|NO_QUERY|      gi_gi_bee|@FakerPattyPattz ...|\n",
              "+---+----------+--------------------+--------+---------------+--------------------+\n",
              "only showing top 20 rows\n",
              "\n"
            ]
          },
          "metadata": {
            "application/vnd.databricks.v1+output": {
              "addedWidgets": {},
              "arguments": {},
              "data": "+---+----------+--------------------+--------+---------------+--------------------+\n|_c0|       _c1|                 _c2|     _c3|            _c4|                 _c5|\n+---+----------+--------------------+--------+---------------+--------------------+\n|  0|1467810369|Mon Apr 06 22:19:...|NO_QUERY|_TheSpecialOne_|@switchfoot http:...|\n|  0|1467810672|Mon Apr 06 22:19:...|NO_QUERY|  scotthamilton|is upset that he ...|\n|  0|1467810917|Mon Apr 06 22:19:...|NO_QUERY|       mattycus|@Kenichan I dived...|\n|  0|1467811184|Mon Apr 06 22:19:...|NO_QUERY|        ElleCTF|my whole body fee...|\n|  0|1467811193|Mon Apr 06 22:19:...|NO_QUERY|         Karoli|@nationwideclass ...|\n|  0|1467811372|Mon Apr 06 22:20:...|NO_QUERY|       joy_wolf|@Kwesidei not the...|\n|  0|1467811592|Mon Apr 06 22:20:...|NO_QUERY|        mybirch|         Need a hug |\n|  0|1467811594|Mon Apr 06 22:20:...|NO_QUERY|           coZZ|@LOLTrish hey  lo...|\n|  0|1467811795|Mon Apr 06 22:20:...|NO_QUERY|2Hood4Hollywood|@Tatiana_K nope t...|\n|  0|1467812025|Mon Apr 06 22:20:...|NO_QUERY|        mimismo|@twittera que me ...|\n|  0|1467812416|Mon Apr 06 22:20:...|NO_QUERY| erinx3leannexo|spring break in p...|\n|  0|1467812579|Mon Apr 06 22:20:...|NO_QUERY|   pardonlauren|I just re-pierced...|\n|  0|1467812723|Mon Apr 06 22:20:...|NO_QUERY|           TLeC|@caregiving I cou...|\n|  0|1467812771|Mon Apr 06 22:20:...|NO_QUERY|robrobbierobert|@octolinz16 It it...|\n|  0|1467812784|Mon Apr 06 22:20:...|NO_QUERY|    bayofwolves|@smarrison i woul...|\n|  0|1467812799|Mon Apr 06 22:20:...|NO_QUERY|     HairByJess|@iamjazzyfizzle I...|\n|  0|1467812964|Mon Apr 06 22:20:...|NO_QUERY| lovesongwriter|Hollis' death sce...|\n|  0|1467813137|Mon Apr 06 22:20:...|NO_QUERY|       armotley|about to file taxes |\n|  0|1467813579|Mon Apr 06 22:20:...|NO_QUERY|     starkissed|@LettyA ahh ive a...|\n|  0|1467813782|Mon Apr 06 22:20:...|NO_QUERY|      gi_gi_bee|@FakerPattyPattz ...|\n+---+----------+--------------------+--------+---------------+--------------------+\nonly showing top 20 rows\n\n",
              "datasetInfos": [],
              "metadata": {},
              "removedWidgets": [],
              "type": "ansi"
            }
          },
          "output_type": "display_data"
        }
      ],
      "source": [
        "df.show()"
      ]
    },
    {
      "cell_type": "code",
      "execution_count": null,
      "metadata": {
        "application/vnd.databricks.v1+cell": {
          "inputWidgets": {},
          "nuid": "e0fc1f37-6519-46c7-b732-5347fba89c01",
          "showTitle": false,
          "title": ""
        },
        "id": "BaXoYBWJJS2I"
      },
      "outputs": [],
      "source": [
        "from vaderSentiment.vaderSentiment import SentimentIntensityAnalyzer\n",
        "analyzer = SentimentIntensityAnalyzer()"
      ]
    },
    {
      "cell_type": "code",
      "execution_count": null,
      "metadata": {
        "application/vnd.databricks.v1+cell": {
          "inputWidgets": {},
          "nuid": "73fd65b9-0ba2-4d43-8741-29cb5730a3df",
          "showTitle": false,
          "title": ""
        },
        "id": "z-mh367SJS2J"
      },
      "outputs": [],
      "source": [
        "df1 = df.select('_c5').rdd\n",
        "#df1.collect()"
      ]
    },
    {
      "cell_type": "code",
      "execution_count": null,
      "metadata": {
        "application/vnd.databricks.v1+cell": {
          "inputWidgets": {},
          "nuid": "5d727200-bc68-4c25-b245-2413e8c6437c",
          "showTitle": false,
          "title": ""
        },
        "id": "wlACyO4tJS2K"
      },
      "outputs": [],
      "source": [
        "from unidecode import unidecode\n",
        "df2 = df1.map(lambda df1 : unidecode(str(df1)))"
      ]
    },
    {
      "cell_type": "code",
      "execution_count": null,
      "metadata": {
        "application/vnd.databricks.v1+cell": {
          "inputWidgets": {},
          "nuid": "26141b1c-2718-44b3-bc1b-9e30544afb24",
          "showTitle": false,
          "title": ""
        },
        "id": "vWvxLdhYJS2L",
        "outputId": "143323de-ad61-41bf-c89f-59b01a730c03"
      },
      "outputs": [
        {
          "data": {
            "text/plain": [
              "Out[27]: ['Row(_c5=\"@switchfoot http://twitpic.com/2y1zl - Awww, that\\'s a bummer.  You shoulda got David Carr of Third Day to do it. ;D\")',\n",
              " 'Row(_c5=\"is upset that he can\\'t update his Facebook by texting it... and might cry as a result  School today also. Blah!\")',\n",
              " \"Row(_c5='@Kenichan I dived many times for the ball. Managed to save 50%  The rest go out of bounds')\",\n",
              " \"Row(_c5='my whole body feels itchy and like its on fire ')\",\n",
              " 'Row(_c5=\"@nationwideclass no, it\\'s not behaving at all. i\\'m mad. why am i here? because I can\\'t see you all over there. \")']"
            ]
          },
          "metadata": {
            "application/vnd.databricks.v1+output": {
              "addedWidgets": {},
              "arguments": {},
              "data": "Out[27]: ['Row(_c5=\"@switchfoot http://twitpic.com/2y1zl - Awww, that\\'s a bummer.  You shoulda got David Carr of Third Day to do it. ;D\")',\n 'Row(_c5=\"is upset that he can\\'t update his Facebook by texting it... and might cry as a result  School today also. Blah!\")',\n \"Row(_c5='@Kenichan I dived many times for the ball. Managed to save 50%  The rest go out of bounds')\",\n \"Row(_c5='my whole body feels itchy and like its on fire ')\",\n 'Row(_c5=\"@nationwideclass no, it\\'s not behaving at all. i\\'m mad. why am i here? because I can\\'t see you all over there. \")']",
              "datasetInfos": [],
              "metadata": {},
              "removedWidgets": [],
              "type": "ansi"
            }
          },
          "output_type": "display_data"
        }
      ],
      "source": [
        "df2.take(5)"
      ]
    },
    {
      "cell_type": "code",
      "execution_count": null,
      "metadata": {
        "application/vnd.databricks.v1+cell": {
          "inputWidgets": {},
          "nuid": "211a881d-e655-40ea-89e1-64d119868f49",
          "showTitle": false,
          "title": ""
        },
        "id": "OywA7JTmJS2O"
      },
      "outputs": [],
      "source": [
        "df3 = df2.map(lambda x : analyzer.polarity_scores(x)['compound'])"
      ]
    },
    {
      "cell_type": "code",
      "execution_count": null,
      "metadata": {
        "application/vnd.databricks.v1+cell": {
          "inputWidgets": {},
          "nuid": "de73a0c8-8329-4bc5-8743-9e193b6b28e3",
          "showTitle": false,
          "title": ""
        },
        "id": "soQOLxV-JS2O",
        "outputId": "d3eef944-b490-4604-82da-af7c7b324765"
      },
      "outputs": [
        {
          "data": {
            "text/plain": [
              "Out[29]: [-0.3818, -0.75, 0.4939, -0.25, -0.4939]"
            ]
          },
          "metadata": {
            "application/vnd.databricks.v1+output": {
              "addedWidgets": {},
              "arguments": {},
              "data": "Out[29]: [-0.3818, -0.75, 0.4939, -0.25, -0.4939]",
              "datasetInfos": [],
              "metadata": {},
              "removedWidgets": [],
              "type": "ansi"
            }
          },
          "output_type": "display_data"
        }
      ],
      "source": [
        "df3.take(5)"
      ]
    },
    {
      "cell_type": "code",
      "execution_count": null,
      "metadata": {
        "application/vnd.databricks.v1+cell": {
          "inputWidgets": {},
          "nuid": "03c456ba-3c27-4677-b85d-57b06eee061b",
          "showTitle": false,
          "title": ""
        },
        "id": "5mOMrvY7JS2P"
      },
      "outputs": [],
      "source": [
        "from pyspark.sql import Row\n",
        "\n",
        "row = Row(\"_c5\") # Or some other column name\n",
        "df2_2 = df2.map(row).toDF()"
      ]
    },
    {
      "cell_type": "code",
      "execution_count": null,
      "metadata": {
        "application/vnd.databricks.v1+cell": {
          "inputWidgets": {},
          "nuid": "59f072f6-a4ee-474f-aa41-b406050fa045",
          "showTitle": false,
          "title": ""
        },
        "id": "s3O8ek4HJS2R",
        "outputId": "26b59a09-fc41-4033-a46f-07db2a8a4803"
      },
      "outputs": [
        {
          "data": {
            "text/plain": [
              "+--------------------+\n",
              "|                 _c5|\n",
              "+--------------------+\n",
              "|Row(_c5=\"@switchf...|\n",
              "|Row(_c5=\"is upset...|\n",
              "|Row(_c5='@Kenicha...|\n",
              "|Row(_c5='my whole...|\n",
              "|Row(_c5=\"@nationw...|\n",
              "|Row(_c5='@Kweside...|\n",
              "|Row(_c5='Need a h...|\n",
              "|Row(_c5=\"@LOLTris...|\n",
              "|Row(_c5=\"@Tatiana...|\n",
              "|Row(_c5='@twitter...|\n",
              "|Row(_c5=\"spring b...|\n",
              "|Row(_c5='I just r...|\n",
              "|Row(_c5=\"@caregiv...|\n",
              "|Row(_c5='@octolin...|\n",
              "|Row(_c5=\"@smarris...|\n",
              "|Row(_c5='@iamjazz...|\n",
              "|Row(_c5=\"Hollis' ...|\n",
              "|Row(_c5='about to...|\n",
              "|Row(_c5='@LettyA ...|\n",
              "|Row(_c5='@FakerPa...|\n",
              "+--------------------+\n",
              "only showing top 20 rows\n",
              "\n"
            ]
          },
          "metadata": {
            "application/vnd.databricks.v1+output": {
              "addedWidgets": {},
              "arguments": {},
              "data": "+--------------------+\n|                 _c5|\n+--------------------+\n|Row(_c5=\"@switchf...|\n|Row(_c5=\"is upset...|\n|Row(_c5='@Kenicha...|\n|Row(_c5='my whole...|\n|Row(_c5=\"@nationw...|\n|Row(_c5='@Kweside...|\n|Row(_c5='Need a h...|\n|Row(_c5=\"@LOLTris...|\n|Row(_c5=\"@Tatiana...|\n|Row(_c5='@twitter...|\n|Row(_c5=\"spring b...|\n|Row(_c5='I just r...|\n|Row(_c5=\"@caregiv...|\n|Row(_c5='@octolin...|\n|Row(_c5=\"@smarris...|\n|Row(_c5='@iamjazz...|\n|Row(_c5=\"Hollis' ...|\n|Row(_c5='about to...|\n|Row(_c5='@LettyA ...|\n|Row(_c5='@FakerPa...|\n+--------------------+\nonly showing top 20 rows\n\n",
              "datasetInfos": [],
              "metadata": {},
              "removedWidgets": [],
              "type": "ansi"
            }
          },
          "output_type": "display_data"
        }
      ],
      "source": [
        "df2_2.show()"
      ]
    },
    {
      "cell_type": "code",
      "execution_count": null,
      "metadata": {
        "application/vnd.databricks.v1+cell": {
          "inputWidgets": {},
          "nuid": "dad905f5-4b9d-4a70-a7c9-792a2c92cc21",
          "showTitle": false,
          "title": ""
        },
        "id": "3abO6H_fJS2R"
      },
      "outputs": [],
      "source": [
        "from pyspark.sql import Row\n",
        "\n",
        "df3_2 = df3.map(lambda x: (x, )).toDF()"
      ]
    },
    {
      "cell_type": "code",
      "execution_count": null,
      "metadata": {
        "application/vnd.databricks.v1+cell": {
          "inputWidgets": {},
          "nuid": "5aa2feab-6442-464a-b17e-0d640982261f",
          "showTitle": false,
          "title": ""
        },
        "id": "lI5Vi-BTJS2R",
        "outputId": "15e98425-00d3-445c-8d7f-843ef6ac3dfe"
      },
      "outputs": [
        {
          "data": {
            "text/plain": [
              "+-------+\n",
              "|     _1|\n",
              "+-------+\n",
              "|-0.3818|\n",
              "|  -0.75|\n",
              "| 0.4939|\n",
              "|  -0.25|\n",
              "|-0.4939|\n",
              "|    0.0|\n",
              "| 0.4767|\n",
              "| 0.6208|\n",
              "|    0.0|\n",
              "|    0.0|\n",
              "|    0.0|\n",
              "|    0.0|\n",
              "|-0.5994|\n",
              "|-0.1027|\n",
              "| 0.3724|\n",
              "| 0.4545|\n",
              "|-0.9081|\n",
              "|    0.0|\n",
              "| 0.6988|\n",
              "| 0.1779|\n",
              "+-------+\n",
              "only showing top 20 rows\n",
              "\n"
            ]
          },
          "metadata": {
            "application/vnd.databricks.v1+output": {
              "addedWidgets": {},
              "arguments": {},
              "data": "+-------+\n|     _1|\n+-------+\n|-0.3818|\n|  -0.75|\n| 0.4939|\n|  -0.25|\n|-0.4939|\n|    0.0|\n| 0.4767|\n| 0.6208|\n|    0.0|\n|    0.0|\n|    0.0|\n|    0.0|\n|-0.5994|\n|-0.1027|\n| 0.3724|\n| 0.4545|\n|-0.9081|\n|    0.0|\n| 0.6988|\n| 0.1779|\n+-------+\nonly showing top 20 rows\n\n",
              "datasetInfos": [],
              "metadata": {},
              "removedWidgets": [],
              "type": "ansi"
            }
          },
          "output_type": "display_data"
        }
      ],
      "source": [
        "df3_2.show()"
      ]
    },
    {
      "cell_type": "code",
      "execution_count": null,
      "metadata": {
        "application/vnd.databricks.v1+cell": {
          "inputWidgets": {},
          "nuid": "5b187f49-e01e-400c-a6f7-cfb5ea04c776",
          "showTitle": false,
          "title": ""
        },
        "id": "nDx6itHkJS2T"
      },
      "outputs": [],
      "source": [
        "from pyspark.sql.functions import desc, row_number, monotonically_increasing_id\n",
        "from pyspark.sql.window import Window\n",
        "\n",
        "df2_2 = df2_2.withColumn('id', row_number().over(Window.orderBy(monotonically_increasing_id())))"
      ]
    },
    {
      "cell_type": "code",
      "execution_count": null,
      "metadata": {
        "application/vnd.databricks.v1+cell": {
          "inputWidgets": {},
          "nuid": "f6941388-a9d3-46dd-a674-2624da094d81",
          "showTitle": false,
          "title": ""
        },
        "id": "m17zvq5QJS2U",
        "outputId": "ff0122f6-a5af-4e0d-93d6-a943048e7c4a"
      },
      "outputs": [
        {
          "data": {
            "text/plain": [
              "+--------------------+-----------------+---+\n",
              "|                 _c5|index_column_name| id|\n",
              "+--------------------+-----------------+---+\n",
              "|Row(_c5=\"@switchf...|                0|  1|\n",
              "|Row(_c5=\"is upset...|                1|  2|\n",
              "|Row(_c5='@Kenicha...|                2|  3|\n",
              "|Row(_c5='my whole...|                3|  4|\n",
              "|Row(_c5=\"@nationw...|                4|  5|\n",
              "|Row(_c5='@Kweside...|                5|  6|\n",
              "|Row(_c5='Need a h...|                6|  7|\n",
              "|Row(_c5=\"@LOLTris...|                7|  8|\n",
              "|Row(_c5=\"@Tatiana...|                8|  9|\n",
              "|Row(_c5='@twitter...|                9| 10|\n",
              "|Row(_c5=\"spring b...|               10| 11|\n",
              "|Row(_c5='I just r...|               11| 12|\n",
              "|Row(_c5=\"@caregiv...|               12| 13|\n",
              "|Row(_c5='@octolin...|               13| 14|\n",
              "|Row(_c5=\"@smarris...|               14| 15|\n",
              "|Row(_c5='@iamjazz...|               15| 16|\n",
              "|Row(_c5=\"Hollis' ...|               16| 17|\n",
              "|Row(_c5='about to...|               17| 18|\n",
              "|Row(_c5='@LettyA ...|               18| 19|\n",
              "|Row(_c5='@FakerPa...|               19| 20|\n",
              "+--------------------+-----------------+---+\n",
              "only showing top 20 rows\n",
              "\n"
            ]
          },
          "metadata": {
            "application/vnd.databricks.v1+output": {
              "addedWidgets": {},
              "arguments": {},
              "data": "+--------------------+-----------------+---+\n|                 _c5|index_column_name| id|\n+--------------------+-----------------+---+\n|Row(_c5=\"@switchf...|                0|  1|\n|Row(_c5=\"is upset...|                1|  2|\n|Row(_c5='@Kenicha...|                2|  3|\n|Row(_c5='my whole...|                3|  4|\n|Row(_c5=\"@nationw...|                4|  5|\n|Row(_c5='@Kweside...|                5|  6|\n|Row(_c5='Need a h...|                6|  7|\n|Row(_c5=\"@LOLTris...|                7|  8|\n|Row(_c5=\"@Tatiana...|                8|  9|\n|Row(_c5='@twitter...|                9| 10|\n|Row(_c5=\"spring b...|               10| 11|\n|Row(_c5='I just r...|               11| 12|\n|Row(_c5=\"@caregiv...|               12| 13|\n|Row(_c5='@octolin...|               13| 14|\n|Row(_c5=\"@smarris...|               14| 15|\n|Row(_c5='@iamjazz...|               15| 16|\n|Row(_c5=\"Hollis' ...|               16| 17|\n|Row(_c5='about to...|               17| 18|\n|Row(_c5='@LettyA ...|               18| 19|\n|Row(_c5='@FakerPa...|               19| 20|\n+--------------------+-----------------+---+\nonly showing top 20 rows\n\n",
              "datasetInfos": [],
              "metadata": {},
              "removedWidgets": [],
              "type": "ansi"
            }
          },
          "output_type": "display_data"
        }
      ],
      "source": [
        "df2_2.show()"
      ]
    },
    {
      "cell_type": "code",
      "execution_count": null,
      "metadata": {
        "application/vnd.databricks.v1+cell": {
          "inputWidgets": {},
          "nuid": "2c4b5066-d650-4b20-a7dd-2834b4263969",
          "showTitle": false,
          "title": ""
        },
        "id": "RJKu7QkaJS2V"
      },
      "outputs": [],
      "source": [
        "df3_2 = df3_2.withColumn('id', row_number().over(Window.orderBy(monotonically_increasing_id())))"
      ]
    },
    {
      "cell_type": "code",
      "execution_count": null,
      "metadata": {
        "application/vnd.databricks.v1+cell": {
          "inputWidgets": {},
          "nuid": "5f642ce9-9907-4c03-ae16-8d71e4163b04",
          "showTitle": false,
          "title": ""
        },
        "id": "EgPno5wLJS2V",
        "outputId": "315c85cc-fc89-467d-fbc2-46ea2eb8631a"
      },
      "outputs": [
        {
          "data": {
            "text/plain": [
              "+-------+---+\n",
              "|     _1| id|\n",
              "+-------+---+\n",
              "|-0.3818|  1|\n",
              "|  -0.75|  2|\n",
              "| 0.4939|  3|\n",
              "|  -0.25|  4|\n",
              "|-0.4939|  5|\n",
              "|    0.0|  6|\n",
              "| 0.4767|  7|\n",
              "| 0.6208|  8|\n",
              "|    0.0|  9|\n",
              "|    0.0| 10|\n",
              "|    0.0| 11|\n",
              "|    0.0| 12|\n",
              "|-0.5994| 13|\n",
              "|-0.1027| 14|\n",
              "| 0.3724| 15|\n",
              "| 0.4545| 16|\n",
              "|-0.9081| 17|\n",
              "|    0.0| 18|\n",
              "| 0.6988| 19|\n",
              "| 0.1779| 20|\n",
              "+-------+---+\n",
              "only showing top 20 rows\n",
              "\n"
            ]
          },
          "metadata": {
            "application/vnd.databricks.v1+output": {
              "addedWidgets": {},
              "arguments": {},
              "data": "+-------+---+\n|     _1| id|\n+-------+---+\n|-0.3818|  1|\n|  -0.75|  2|\n| 0.4939|  3|\n|  -0.25|  4|\n|-0.4939|  5|\n|    0.0|  6|\n| 0.4767|  7|\n| 0.6208|  8|\n|    0.0|  9|\n|    0.0| 10|\n|    0.0| 11|\n|    0.0| 12|\n|-0.5994| 13|\n|-0.1027| 14|\n| 0.3724| 15|\n| 0.4545| 16|\n|-0.9081| 17|\n|    0.0| 18|\n| 0.6988| 19|\n| 0.1779| 20|\n+-------+---+\nonly showing top 20 rows\n\n",
              "datasetInfos": [],
              "metadata": {},
              "removedWidgets": [],
              "type": "ansi"
            }
          },
          "output_type": "display_data"
        }
      ],
      "source": [
        "df3_2.show()"
      ]
    },
    {
      "cell_type": "code",
      "execution_count": null,
      "metadata": {
        "application/vnd.databricks.v1+cell": {
          "inputWidgets": {},
          "nuid": "d99c6191-2bce-4bfc-83e1-2d2cedd0a7aa",
          "showTitle": false,
          "title": ""
        },
        "id": "2HRJWU_nJS2W"
      },
      "outputs": [],
      "source": [
        "df4 = df2_2.join(df3_2,df2_2.id ==  df3_2.id,\"inner\")"
      ]
    },
    {
      "cell_type": "code",
      "execution_count": null,
      "metadata": {
        "application/vnd.databricks.v1+cell": {
          "inputWidgets": {},
          "nuid": "e434e1a9-a518-4f14-b388-6bf8dd6a22e1",
          "showTitle": false,
          "title": ""
        },
        "id": "CTa7dSUAJS2W",
        "outputId": "97a4f4e9-814b-4d54-8636-4016aa330815"
      },
      "outputs": [
        {
          "data": {
            "text/plain": [
              "+--------------------+-----------------+---+-------+---+\n",
              "|                 _c5|index_column_name| id|     _1| id|\n",
              "+--------------------+-----------------+---+-------+---+\n",
              "|Row(_c5=\"@switchf...|                0|  1|-0.3818|  1|\n",
              "|Row(_c5=\"is upset...|                1|  2|  -0.75|  2|\n",
              "|Row(_c5='@Kenicha...|                2|  3| 0.4939|  3|\n",
              "|Row(_c5='my whole...|                3|  4|  -0.25|  4|\n",
              "|Row(_c5=\"@nationw...|                4|  5|-0.4939|  5|\n",
              "|Row(_c5='@Kweside...|                5|  6|    0.0|  6|\n",
              "|Row(_c5='Need a h...|                6|  7| 0.4767|  7|\n",
              "|Row(_c5=\"@LOLTris...|                7|  8| 0.6208|  8|\n",
              "|Row(_c5=\"@Tatiana...|                8|  9|    0.0|  9|\n",
              "|Row(_c5='@twitter...|                9| 10|    0.0| 10|\n",
              "|Row(_c5=\"spring b...|               10| 11|    0.0| 11|\n",
              "|Row(_c5='I just r...|               11| 12|    0.0| 12|\n",
              "|Row(_c5=\"@caregiv...|               12| 13|-0.5994| 13|\n",
              "|Row(_c5='@octolin...|               13| 14|-0.1027| 14|\n",
              "|Row(_c5=\"@smarris...|               14| 15| 0.3724| 15|\n",
              "|Row(_c5='@iamjazz...|               15| 16| 0.4545| 16|\n",
              "|Row(_c5=\"Hollis' ...|               16| 17|-0.9081| 17|\n",
              "|Row(_c5='about to...|               17| 18|    0.0| 18|\n",
              "|Row(_c5='@LettyA ...|               18| 19| 0.6988| 19|\n",
              "|Row(_c5='@FakerPa...|               19| 20| 0.1779| 20|\n",
              "+--------------------+-----------------+---+-------+---+\n",
              "only showing top 20 rows\n",
              "\n"
            ]
          },
          "metadata": {
            "application/vnd.databricks.v1+output": {
              "addedWidgets": {},
              "arguments": {},
              "data": "+--------------------+-----------------+---+-------+---+\n|                 _c5|index_column_name| id|     _1| id|\n+--------------------+-----------------+---+-------+---+\n|Row(_c5=\"@switchf...|                0|  1|-0.3818|  1|\n|Row(_c5=\"is upset...|                1|  2|  -0.75|  2|\n|Row(_c5='@Kenicha...|                2|  3| 0.4939|  3|\n|Row(_c5='my whole...|                3|  4|  -0.25|  4|\n|Row(_c5=\"@nationw...|                4|  5|-0.4939|  5|\n|Row(_c5='@Kweside...|                5|  6|    0.0|  6|\n|Row(_c5='Need a h...|                6|  7| 0.4767|  7|\n|Row(_c5=\"@LOLTris...|                7|  8| 0.6208|  8|\n|Row(_c5=\"@Tatiana...|                8|  9|    0.0|  9|\n|Row(_c5='@twitter...|                9| 10|    0.0| 10|\n|Row(_c5=\"spring b...|               10| 11|    0.0| 11|\n|Row(_c5='I just r...|               11| 12|    0.0| 12|\n|Row(_c5=\"@caregiv...|               12| 13|-0.5994| 13|\n|Row(_c5='@octolin...|               13| 14|-0.1027| 14|\n|Row(_c5=\"@smarris...|               14| 15| 0.3724| 15|\n|Row(_c5='@iamjazz...|               15| 16| 0.4545| 16|\n|Row(_c5=\"Hollis' ...|               16| 17|-0.9081| 17|\n|Row(_c5='about to...|               17| 18|    0.0| 18|\n|Row(_c5='@LettyA ...|               18| 19| 0.6988| 19|\n|Row(_c5='@FakerPa...|               19| 20| 0.1779| 20|\n+--------------------+-----------------+---+-------+---+\nonly showing top 20 rows\n\n",
              "datasetInfos": [],
              "metadata": {},
              "removedWidgets": [],
              "type": "ansi"
            }
          },
          "output_type": "display_data"
        }
      ],
      "source": [
        "df4.show()"
      ]
    }
  ],
  "metadata": {
    "application/vnd.databricks.v1+notebook": {
      "dashboards": [],
      "language": "python",
      "notebookMetadata": {
        "pythonIndentUnit": 4
      },
      "notebookName": "BigDataProj",
      "notebookOrigID": 234182490912681,
      "widgets": {}
    },
    "kernelspec": {
      "display_name": "Python 3",
      "language": "python",
      "name": "python3"
    },
    "language_info": {
      "codemirror_mode": {
        "name": "ipython",
        "version": 3
      },
      "file_extension": ".py",
      "mimetype": "text/x-python",
      "name": "python",
      "nbconvert_exporter": "python",
      "pygments_lexer": "ipython3",
      "version": "3.8.8"
    },
    "colab": {
      "name": "Sentiment Analysis.ipynb",
      "provenance": [],
      "collapsed_sections": []
    }
  },
  "nbformat": 4,
  "nbformat_minor": 0
}