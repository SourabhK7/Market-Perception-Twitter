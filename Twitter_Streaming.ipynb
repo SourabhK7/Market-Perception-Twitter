{
  "nbformat": 4,
  "nbformat_minor": 0,
  "metadata": {
    "colab": {
      "name": "Twitter Streaming.ipynb",
      "provenance": [],
      "collapsed_sections": []
    },
    "kernelspec": {
      "name": "python3",
      "display_name": "Python 3"
    },
    "language_info": {
      "name": "python"
    }
  },
  "cells": [
    {
      "cell_type": "code",
      "execution_count": null,
      "metadata": {
        "id": "MHtAwl7mEHoN"
      },
      "outputs": [],
      "source": [
        "References: https://github.com/Sentdex/socialsentiment/blob/master/twitter_stream.py\n",
        "\n",
        "from tweepy import Stream\n",
        "from tweepy import OAuthHandler\n",
        "from tweepy.streaming import StreamListener\n",
        "import json\n",
        "import sqlite3\n",
        "from vaderSentiment.vaderSentiment import SentimentIntensityAnalyzer\n",
        "from unidecode import unidecode\n",
        "import time\n",
        "\n",
        "analyzer = SentimentIntensityAnalyzer()\n",
        "\n",
        "atoken  = \"*****\"     #access token key\n",
        "asecret = \"*****\"     #access token secret\n",
        "ckey    = \"*****\"     #customer key\n",
        "csecret = \"*****\"     #customer secret\n",
        "\n",
        "conn = sqlite3.connect('twitter.db')\n",
        "c = conn.cursor()\n",
        "\n",
        "def create_table():\n",
        "    try:\n",
        "        c.execute(\"CREATE TABLE IF NOT EXISTS sentiment(unix REAL, tweet TEXT, location TEXT, sentiment REAL)\")\n",
        "        c.execute(\"CREATE INDEX fast_unix ON sentiment(unix)\")\n",
        "        c.execute(\"CREATE INDEX fast_tweet ON sentiment(tweet)\")\n",
        "        c.execute(\"CREATE INDEX fast_sentiment ON sentiment(sentiment)\")\n",
        "        conn.commit()\n",
        "    except Exception as e:\n",
        "        print(str(e))\n",
        "create_table()\n",
        "\n",
        "\n",
        "\n",
        "class listener(StreamListener):\n",
        "\n",
        "    def on_data(self, data):\n",
        "        try:\n",
        "            data = json.loads(data)\n",
        "            tweet = unidecode(data['text'])\n",
        "            time_ms = data['timestamp_ms']\n",
        "            vs = analyzer.polarity_scores(tweet)\n",
        "            sentiment = vs['compound']\n",
        "            print(time_ms, tweet, sentiment)\n",
        "            c.execute(\"INSERT INTO sentiment (unix, tweet, sentiment) VALUES (?, ?, ?)\",\n",
        "                  (time_ms, tweet, sentiment))\n",
        "            conn.commit()\n",
        "\n",
        "        except KeyError as e:\n",
        "            print(str(e))\n",
        "        return(True)\n",
        "\n",
        "    def on_error(self, status):\n",
        "        print(status)\n",
        "\n",
        "\n",
        "while True:\n",
        "\n",
        "    try:\n",
        "        auth = OAuthHandler(ckey, csecret)\n",
        "        auth.set_access_token(atoken, asecret)\n",
        "        twitterStream = Stream(auth, listener())\n",
        "        twitterStream.filter(track=[\"Amazon, Microsoft, Apple, Google\"])\n",
        "    except Exception as e:\n",
        "        print(str(e))\n",
        "        time.sleep(5)"
      ]
    }
  ]
}